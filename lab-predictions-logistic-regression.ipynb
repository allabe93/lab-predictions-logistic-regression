{
 "cells": [
  {
   "cell_type": "code",
   "execution_count": 1,
   "id": "bf6daefc",
   "metadata": {},
   "outputs": [
    {
     "name": "stdout",
     "output_type": "stream",
     "text": [
      "Requirement already satisfied: imblearn in c:\\users\\allab\\anaconda3\\lib\\site-packages (0.0)\n",
      "Requirement already satisfied: imbalanced-learn in c:\\users\\allab\\anaconda3\\lib\\site-packages (from imblearn) (0.10.0)\n",
      "Requirement already satisfied: numpy>=1.17.3 in c:\\users\\allab\\anaconda3\\lib\\site-packages (from imbalanced-learn->imblearn) (1.21.5)\n",
      "Requirement already satisfied: scikit-learn>=1.0.2 in c:\\users\\allab\\anaconda3\\lib\\site-packages (from imbalanced-learn->imblearn) (1.0.2)\n",
      "Requirement already satisfied: joblib>=1.1.1 in c:\\users\\allab\\anaconda3\\lib\\site-packages (from imbalanced-learn->imblearn) (1.2.0)\n",
      "Requirement already satisfied: scipy>=1.3.2 in c:\\users\\allab\\anaconda3\\lib\\site-packages (from imbalanced-learn->imblearn) (1.7.3)\n",
      "Requirement already satisfied: threadpoolctl>=2.0.0 in c:\\users\\allab\\anaconda3\\lib\\site-packages (from imbalanced-learn->imblearn) (2.2.0)\n"
     ]
    }
   ],
   "source": [
    "!pip install imblearn"
   ]
  },
  {
   "cell_type": "code",
   "execution_count": 2,
   "id": "b18bc506",
   "metadata": {},
   "outputs": [
    {
     "name": "stdout",
     "output_type": "stream",
     "text": [
      "········\n"
     ]
    }
   ],
   "source": [
    "import imblearn\n",
    "import pymysql\n",
    "from sqlalchemy import create_engine\n",
    "import pandas as pd\n",
    "import numpy as np\n",
    "import getpass\n",
    "import matplotlib.pyplot as plt\n",
    "import seaborn as sns\n",
    "from sklearn.preprocessing import Normalizer, StandardScaler\n",
    "from sklearn.model_selection import train_test_split\n",
    "from sklearn.linear_model import LogisticRegression\n",
    "from sklearn.metrics import confusion_matrix, classification_report\n",
    "from sklearn.preprocessing import OneHotEncoder\n",
    "password = getpass.getpass()"
   ]
  },
  {
   "cell_type": "code",
   "execution_count": 3,
   "id": "fefdb236",
   "metadata": {
    "scrolled": false
   },
   "outputs": [
    {
     "data": {
      "text/html": [
       "<div>\n",
       "<style scoped>\n",
       "    .dataframe tbody tr th:only-of-type {\n",
       "        vertical-align: middle;\n",
       "    }\n",
       "\n",
       "    .dataframe tbody tr th {\n",
       "        vertical-align: top;\n",
       "    }\n",
       "\n",
       "    .dataframe thead th {\n",
       "        text-align: right;\n",
       "    }\n",
       "</style>\n",
       "<table border=\"1\" class=\"dataframe\">\n",
       "  <thead>\n",
       "    <tr style=\"text-align: right;\">\n",
       "      <th></th>\n",
       "      <th>rental_id</th>\n",
       "      <th>film_id</th>\n",
       "      <th>title</th>\n",
       "      <th>category_id</th>\n",
       "      <th>name</th>\n",
       "      <th>rating</th>\n",
       "      <th>rental_date</th>\n",
       "      <th>return_date</th>\n",
       "      <th>rental_duration</th>\n",
       "      <th>rental_rate</th>\n",
       "      <th>rented_next_month</th>\n",
       "    </tr>\n",
       "  </thead>\n",
       "  <tbody>\n",
       "    <tr>\n",
       "      <th>0</th>\n",
       "      <td>4863</td>\n",
       "      <td>1</td>\n",
       "      <td>ACADEMY DINOSAUR</td>\n",
       "      <td>6</td>\n",
       "      <td>Documentary</td>\n",
       "      <td>PG</td>\n",
       "      <td>2005-07-08</td>\n",
       "      <td>2005-07-11</td>\n",
       "      <td>6</td>\n",
       "      <td>0.99</td>\n",
       "      <td>0</td>\n",
       "    </tr>\n",
       "    <tr>\n",
       "      <th>1</th>\n",
       "      <td>10310</td>\n",
       "      <td>2</td>\n",
       "      <td>ACE GOLDFINGER</td>\n",
       "      <td>11</td>\n",
       "      <td>Horror</td>\n",
       "      <td>G</td>\n",
       "      <td>2005-08-01</td>\n",
       "      <td>2005-08-04</td>\n",
       "      <td>3</td>\n",
       "      <td>4.99</td>\n",
       "      <td>1</td>\n",
       "    </tr>\n",
       "    <tr>\n",
       "      <th>2</th>\n",
       "      <td>6999</td>\n",
       "      <td>3</td>\n",
       "      <td>ADAPTATION HOLES</td>\n",
       "      <td>6</td>\n",
       "      <td>Documentary</td>\n",
       "      <td>NC-17</td>\n",
       "      <td>2005-07-27</td>\n",
       "      <td>2005-07-29</td>\n",
       "      <td>7</td>\n",
       "      <td>2.99</td>\n",
       "      <td>0</td>\n",
       "    </tr>\n",
       "    <tr>\n",
       "      <th>3</th>\n",
       "      <td>6493</td>\n",
       "      <td>4</td>\n",
       "      <td>AFFAIR PREJUDICE</td>\n",
       "      <td>11</td>\n",
       "      <td>Horror</td>\n",
       "      <td>G</td>\n",
       "      <td>2005-07-12</td>\n",
       "      <td>2005-07-16</td>\n",
       "      <td>5</td>\n",
       "      <td>2.99</td>\n",
       "      <td>0</td>\n",
       "    </tr>\n",
       "    <tr>\n",
       "      <th>4</th>\n",
       "      <td>552</td>\n",
       "      <td>5</td>\n",
       "      <td>AFRICAN EGG</td>\n",
       "      <td>8</td>\n",
       "      <td>Family</td>\n",
       "      <td>G</td>\n",
       "      <td>2005-05-28</td>\n",
       "      <td>2005-06-04</td>\n",
       "      <td>6</td>\n",
       "      <td>2.99</td>\n",
       "      <td>0</td>\n",
       "    </tr>\n",
       "    <tr>\n",
       "      <th>...</th>\n",
       "      <td>...</td>\n",
       "      <td>...</td>\n",
       "      <td>...</td>\n",
       "      <td>...</td>\n",
       "      <td>...</td>\n",
       "      <td>...</td>\n",
       "      <td>...</td>\n",
       "      <td>...</td>\n",
       "      <td>...</td>\n",
       "      <td>...</td>\n",
       "      <td>...</td>\n",
       "    </tr>\n",
       "    <tr>\n",
       "      <th>953</th>\n",
       "      <td>4969</td>\n",
       "      <td>996</td>\n",
       "      <td>YOUNG LANGUAGE</td>\n",
       "      <td>6</td>\n",
       "      <td>Documentary</td>\n",
       "      <td>G</td>\n",
       "      <td>2005-07-08</td>\n",
       "      <td>2005-07-12</td>\n",
       "      <td>6</td>\n",
       "      <td>0.99</td>\n",
       "      <td>0</td>\n",
       "    </tr>\n",
       "    <tr>\n",
       "      <th>954</th>\n",
       "      <td>7240</td>\n",
       "      <td>997</td>\n",
       "      <td>YOUTH KICK</td>\n",
       "      <td>12</td>\n",
       "      <td>Music</td>\n",
       "      <td>NC-17</td>\n",
       "      <td>2005-07-27</td>\n",
       "      <td>2005-08-03</td>\n",
       "      <td>4</td>\n",
       "      <td>0.99</td>\n",
       "      <td>0</td>\n",
       "    </tr>\n",
       "    <tr>\n",
       "      <th>955</th>\n",
       "      <td>1884</td>\n",
       "      <td>998</td>\n",
       "      <td>ZHIVAGO CORE</td>\n",
       "      <td>11</td>\n",
       "      <td>Horror</td>\n",
       "      <td>NC-17</td>\n",
       "      <td>2005-06-17</td>\n",
       "      <td>2005-06-21</td>\n",
       "      <td>6</td>\n",
       "      <td>0.99</td>\n",
       "      <td>0</td>\n",
       "    </tr>\n",
       "    <tr>\n",
       "      <th>956</th>\n",
       "      <td>3734</td>\n",
       "      <td>999</td>\n",
       "      <td>ZOOLANDER FICTION</td>\n",
       "      <td>3</td>\n",
       "      <td>Children</td>\n",
       "      <td>R</td>\n",
       "      <td>2005-07-06</td>\n",
       "      <td>2005-07-14</td>\n",
       "      <td>5</td>\n",
       "      <td>2.99</td>\n",
       "      <td>0</td>\n",
       "    </tr>\n",
       "    <tr>\n",
       "      <th>957</th>\n",
       "      <td>6901</td>\n",
       "      <td>1000</td>\n",
       "      <td>ZORRO ARK</td>\n",
       "      <td>5</td>\n",
       "      <td>Comedy</td>\n",
       "      <td>NC-17</td>\n",
       "      <td>2005-07-12</td>\n",
       "      <td>2005-07-16</td>\n",
       "      <td>3</td>\n",
       "      <td>4.99</td>\n",
       "      <td>0</td>\n",
       "    </tr>\n",
       "  </tbody>\n",
       "</table>\n",
       "<p>958 rows × 11 columns</p>\n",
       "</div>"
      ],
      "text/plain": [
       "     rental_id  film_id              title  category_id         name rating  \\\n",
       "0         4863        1   ACADEMY DINOSAUR            6  Documentary     PG   \n",
       "1        10310        2     ACE GOLDFINGER           11       Horror      G   \n",
       "2         6999        3   ADAPTATION HOLES            6  Documentary  NC-17   \n",
       "3         6493        4   AFFAIR PREJUDICE           11       Horror      G   \n",
       "4          552        5        AFRICAN EGG            8       Family      G   \n",
       "..         ...      ...                ...          ...          ...    ...   \n",
       "953       4969      996     YOUNG LANGUAGE            6  Documentary      G   \n",
       "954       7240      997         YOUTH KICK           12        Music  NC-17   \n",
       "955       1884      998       ZHIVAGO CORE           11       Horror  NC-17   \n",
       "956       3734      999  ZOOLANDER FICTION            3     Children      R   \n",
       "957       6901     1000          ZORRO ARK            5       Comedy  NC-17   \n",
       "\n",
       "    rental_date return_date  rental_duration  rental_rate  rented_next_month  \n",
       "0    2005-07-08  2005-07-11                6         0.99                  0  \n",
       "1    2005-08-01  2005-08-04                3         4.99                  1  \n",
       "2    2005-07-27  2005-07-29                7         2.99                  0  \n",
       "3    2005-07-12  2005-07-16                5         2.99                  0  \n",
       "4    2005-05-28  2005-06-04                6         2.99                  0  \n",
       "..          ...         ...              ...          ...                ...  \n",
       "953  2005-07-08  2005-07-12                6         0.99                  0  \n",
       "954  2005-07-27  2005-08-03                4         0.99                  0  \n",
       "955  2005-06-17  2005-06-21                6         0.99                  0  \n",
       "956  2005-07-06  2005-07-14                5         2.99                  0  \n",
       "957  2005-07-12  2005-07-16                3         4.99                  0  \n",
       "\n",
       "[958 rows x 11 columns]"
      ]
     },
     "execution_count": 3,
     "metadata": {},
     "output_type": "execute_result"
    }
   ],
   "source": [
    "connection_string = 'mysql+pymysql://root:' + password + '@localhost/sakila'\n",
    "engine = create_engine(connection_string)\n",
    "\n",
    "query = '''\n",
    "select r.rental_id, f.film_id, f.title, c.category_id, c.name, f.rating, substring(r.rental_date, 1, 10) as rental_date, substring(r.return_date, 1, 10) as return_date, f.rental_duration, f.rental_rate,\n",
    "case when rental_date between '2005-08-01 00:00:00' and '2005-08-31 23:59:59' then 1 else 0 end as rented_next_month\n",
    "from sakila.rental r join sakila.inventory using (inventory_id)\n",
    "join sakila.film f using (film_id) \n",
    "join sakila.film_category using (film_id)\n",
    "join sakila.category c using (category_id)\n",
    "group by film_id order by film_id asc;\n",
    "        '''\n",
    "\n",
    "data = pd.read_sql_query(query, engine)\n",
    "data"
   ]
  },
  {
   "cell_type": "markdown",
   "id": "cf30adf5",
   "metadata": {},
   "source": [
    "# Our target variable will be rented_next_month (0-no or 1-yes), that corresponds with films rented during August 2005"
   ]
  },
  {
   "cell_type": "code",
   "execution_count": 4,
   "id": "305198bc",
   "metadata": {
    "scrolled": true
   },
   "outputs": [
    {
     "data": {
      "text/html": [
       "<div>\n",
       "<style scoped>\n",
       "    .dataframe tbody tr th:only-of-type {\n",
       "        vertical-align: middle;\n",
       "    }\n",
       "\n",
       "    .dataframe tbody tr th {\n",
       "        vertical-align: top;\n",
       "    }\n",
       "\n",
       "    .dataframe thead th {\n",
       "        text-align: right;\n",
       "    }\n",
       "</style>\n",
       "<table border=\"1\" class=\"dataframe\">\n",
       "  <thead>\n",
       "    <tr style=\"text-align: right;\">\n",
       "      <th></th>\n",
       "      <th>film_id</th>\n",
       "      <th>title</th>\n",
       "      <th>category_id</th>\n",
       "      <th>name</th>\n",
       "      <th>rating</th>\n",
       "      <th>rental_date</th>\n",
       "      <th>return_date</th>\n",
       "      <th>rental_duration</th>\n",
       "      <th>rental_rate</th>\n",
       "      <th>rented_next_month</th>\n",
       "    </tr>\n",
       "    <tr>\n",
       "      <th>rental_id</th>\n",
       "      <th></th>\n",
       "      <th></th>\n",
       "      <th></th>\n",
       "      <th></th>\n",
       "      <th></th>\n",
       "      <th></th>\n",
       "      <th></th>\n",
       "      <th></th>\n",
       "      <th></th>\n",
       "      <th></th>\n",
       "    </tr>\n",
       "  </thead>\n",
       "  <tbody>\n",
       "    <tr>\n",
       "      <th>4863</th>\n",
       "      <td>1</td>\n",
       "      <td>ACADEMY DINOSAUR</td>\n",
       "      <td>6</td>\n",
       "      <td>Documentary</td>\n",
       "      <td>PG</td>\n",
       "      <td>2005-07-08</td>\n",
       "      <td>2005-07-11</td>\n",
       "      <td>6</td>\n",
       "      <td>0.99</td>\n",
       "      <td>0</td>\n",
       "    </tr>\n",
       "    <tr>\n",
       "      <th>10310</th>\n",
       "      <td>2</td>\n",
       "      <td>ACE GOLDFINGER</td>\n",
       "      <td>11</td>\n",
       "      <td>Horror</td>\n",
       "      <td>G</td>\n",
       "      <td>2005-08-01</td>\n",
       "      <td>2005-08-04</td>\n",
       "      <td>3</td>\n",
       "      <td>4.99</td>\n",
       "      <td>1</td>\n",
       "    </tr>\n",
       "    <tr>\n",
       "      <th>6999</th>\n",
       "      <td>3</td>\n",
       "      <td>ADAPTATION HOLES</td>\n",
       "      <td>6</td>\n",
       "      <td>Documentary</td>\n",
       "      <td>NC-17</td>\n",
       "      <td>2005-07-27</td>\n",
       "      <td>2005-07-29</td>\n",
       "      <td>7</td>\n",
       "      <td>2.99</td>\n",
       "      <td>0</td>\n",
       "    </tr>\n",
       "    <tr>\n",
       "      <th>6493</th>\n",
       "      <td>4</td>\n",
       "      <td>AFFAIR PREJUDICE</td>\n",
       "      <td>11</td>\n",
       "      <td>Horror</td>\n",
       "      <td>G</td>\n",
       "      <td>2005-07-12</td>\n",
       "      <td>2005-07-16</td>\n",
       "      <td>5</td>\n",
       "      <td>2.99</td>\n",
       "      <td>0</td>\n",
       "    </tr>\n",
       "    <tr>\n",
       "      <th>552</th>\n",
       "      <td>5</td>\n",
       "      <td>AFRICAN EGG</td>\n",
       "      <td>8</td>\n",
       "      <td>Family</td>\n",
       "      <td>G</td>\n",
       "      <td>2005-05-28</td>\n",
       "      <td>2005-06-04</td>\n",
       "      <td>6</td>\n",
       "      <td>2.99</td>\n",
       "      <td>0</td>\n",
       "    </tr>\n",
       "    <tr>\n",
       "      <th>...</th>\n",
       "      <td>...</td>\n",
       "      <td>...</td>\n",
       "      <td>...</td>\n",
       "      <td>...</td>\n",
       "      <td>...</td>\n",
       "      <td>...</td>\n",
       "      <td>...</td>\n",
       "      <td>...</td>\n",
       "      <td>...</td>\n",
       "      <td>...</td>\n",
       "    </tr>\n",
       "    <tr>\n",
       "      <th>4969</th>\n",
       "      <td>996</td>\n",
       "      <td>YOUNG LANGUAGE</td>\n",
       "      <td>6</td>\n",
       "      <td>Documentary</td>\n",
       "      <td>G</td>\n",
       "      <td>2005-07-08</td>\n",
       "      <td>2005-07-12</td>\n",
       "      <td>6</td>\n",
       "      <td>0.99</td>\n",
       "      <td>0</td>\n",
       "    </tr>\n",
       "    <tr>\n",
       "      <th>7240</th>\n",
       "      <td>997</td>\n",
       "      <td>YOUTH KICK</td>\n",
       "      <td>12</td>\n",
       "      <td>Music</td>\n",
       "      <td>NC-17</td>\n",
       "      <td>2005-07-27</td>\n",
       "      <td>2005-08-03</td>\n",
       "      <td>4</td>\n",
       "      <td>0.99</td>\n",
       "      <td>0</td>\n",
       "    </tr>\n",
       "    <tr>\n",
       "      <th>1884</th>\n",
       "      <td>998</td>\n",
       "      <td>ZHIVAGO CORE</td>\n",
       "      <td>11</td>\n",
       "      <td>Horror</td>\n",
       "      <td>NC-17</td>\n",
       "      <td>2005-06-17</td>\n",
       "      <td>2005-06-21</td>\n",
       "      <td>6</td>\n",
       "      <td>0.99</td>\n",
       "      <td>0</td>\n",
       "    </tr>\n",
       "    <tr>\n",
       "      <th>3734</th>\n",
       "      <td>999</td>\n",
       "      <td>ZOOLANDER FICTION</td>\n",
       "      <td>3</td>\n",
       "      <td>Children</td>\n",
       "      <td>R</td>\n",
       "      <td>2005-07-06</td>\n",
       "      <td>2005-07-14</td>\n",
       "      <td>5</td>\n",
       "      <td>2.99</td>\n",
       "      <td>0</td>\n",
       "    </tr>\n",
       "    <tr>\n",
       "      <th>6901</th>\n",
       "      <td>1000</td>\n",
       "      <td>ZORRO ARK</td>\n",
       "      <td>5</td>\n",
       "      <td>Comedy</td>\n",
       "      <td>NC-17</td>\n",
       "      <td>2005-07-12</td>\n",
       "      <td>2005-07-16</td>\n",
       "      <td>3</td>\n",
       "      <td>4.99</td>\n",
       "      <td>0</td>\n",
       "    </tr>\n",
       "  </tbody>\n",
       "</table>\n",
       "<p>958 rows × 10 columns</p>\n",
       "</div>"
      ],
      "text/plain": [
       "           film_id              title  category_id         name rating  \\\n",
       "rental_id                                                                \n",
       "4863             1   ACADEMY DINOSAUR            6  Documentary     PG   \n",
       "10310            2     ACE GOLDFINGER           11       Horror      G   \n",
       "6999             3   ADAPTATION HOLES            6  Documentary  NC-17   \n",
       "6493             4   AFFAIR PREJUDICE           11       Horror      G   \n",
       "552              5        AFRICAN EGG            8       Family      G   \n",
       "...            ...                ...          ...          ...    ...   \n",
       "4969           996     YOUNG LANGUAGE            6  Documentary      G   \n",
       "7240           997         YOUTH KICK           12        Music  NC-17   \n",
       "1884           998       ZHIVAGO CORE           11       Horror  NC-17   \n",
       "3734           999  ZOOLANDER FICTION            3     Children      R   \n",
       "6901          1000          ZORRO ARK            5       Comedy  NC-17   \n",
       "\n",
       "          rental_date return_date  rental_duration  rental_rate  \\\n",
       "rental_id                                                         \n",
       "4863       2005-07-08  2005-07-11                6         0.99   \n",
       "10310      2005-08-01  2005-08-04                3         4.99   \n",
       "6999       2005-07-27  2005-07-29                7         2.99   \n",
       "6493       2005-07-12  2005-07-16                5         2.99   \n",
       "552        2005-05-28  2005-06-04                6         2.99   \n",
       "...               ...         ...              ...          ...   \n",
       "4969       2005-07-08  2005-07-12                6         0.99   \n",
       "7240       2005-07-27  2005-08-03                4         0.99   \n",
       "1884       2005-06-17  2005-06-21                6         0.99   \n",
       "3734       2005-07-06  2005-07-14                5         2.99   \n",
       "6901       2005-07-12  2005-07-16                3         4.99   \n",
       "\n",
       "           rented_next_month  \n",
       "rental_id                     \n",
       "4863                       0  \n",
       "10310                      1  \n",
       "6999                       0  \n",
       "6493                       0  \n",
       "552                        0  \n",
       "...                      ...  \n",
       "4969                       0  \n",
       "7240                       0  \n",
       "1884                       0  \n",
       "3734                       0  \n",
       "6901                       0  \n",
       "\n",
       "[958 rows x 10 columns]"
      ]
     },
     "execution_count": 4,
     "metadata": {},
     "output_type": "execute_result"
    }
   ],
   "source": [
    "data = data.set_index('rental_id')\n",
    "data"
   ]
  },
  {
   "cell_type": "code",
   "execution_count": 5,
   "id": "707e206c",
   "metadata": {},
   "outputs": [
    {
     "data": {
      "text/plain": [
       "film_id                int64\n",
       "title                 object\n",
       "category_id            int64\n",
       "name                  object\n",
       "rating                object\n",
       "rental_date           object\n",
       "return_date           object\n",
       "rental_duration        int64\n",
       "rental_rate          float64\n",
       "rented_next_month      int64\n",
       "dtype: object"
      ]
     },
     "execution_count": 5,
     "metadata": {},
     "output_type": "execute_result"
    }
   ],
   "source": [
    "data.dtypes"
   ]
  },
  {
   "cell_type": "code",
   "execution_count": 6,
   "id": "02953078",
   "metadata": {},
   "outputs": [
    {
     "data": {
      "text/html": [
       "<div>\n",
       "<style scoped>\n",
       "    .dataframe tbody tr th:only-of-type {\n",
       "        vertical-align: middle;\n",
       "    }\n",
       "\n",
       "    .dataframe tbody tr th {\n",
       "        vertical-align: top;\n",
       "    }\n",
       "\n",
       "    .dataframe thead th {\n",
       "        text-align: right;\n",
       "    }\n",
       "</style>\n",
       "<table border=\"1\" class=\"dataframe\">\n",
       "  <thead>\n",
       "    <tr style=\"text-align: right;\">\n",
       "      <th></th>\n",
       "      <th>film_id</th>\n",
       "      <th>category_id</th>\n",
       "      <th>rental_duration</th>\n",
       "      <th>rental_rate</th>\n",
       "      <th>rented_next_month</th>\n",
       "    </tr>\n",
       "  </thead>\n",
       "  <tbody>\n",
       "    <tr>\n",
       "      <th>count</th>\n",
       "      <td>958.000000</td>\n",
       "      <td>958.000000</td>\n",
       "      <td>958.000000</td>\n",
       "      <td>958.000000</td>\n",
       "      <td>958.000000</td>\n",
       "    </tr>\n",
       "    <tr>\n",
       "      <th>mean</th>\n",
       "      <td>502.598121</td>\n",
       "      <td>8.483299</td>\n",
       "      <td>4.969729</td>\n",
       "      <td>2.977474</td>\n",
       "      <td>0.086639</td>\n",
       "    </tr>\n",
       "    <tr>\n",
       "      <th>std</th>\n",
       "      <td>287.541738</td>\n",
       "      <td>4.615321</td>\n",
       "      <td>1.407593</td>\n",
       "      <td>1.643152</td>\n",
       "      <td>0.281452</td>\n",
       "    </tr>\n",
       "    <tr>\n",
       "      <th>min</th>\n",
       "      <td>1.000000</td>\n",
       "      <td>1.000000</td>\n",
       "      <td>3.000000</td>\n",
       "      <td>0.990000</td>\n",
       "      <td>0.000000</td>\n",
       "    </tr>\n",
       "    <tr>\n",
       "      <th>25%</th>\n",
       "      <td>256.250000</td>\n",
       "      <td>5.000000</td>\n",
       "      <td>4.000000</td>\n",
       "      <td>0.990000</td>\n",
       "      <td>0.000000</td>\n",
       "    </tr>\n",
       "    <tr>\n",
       "      <th>50%</th>\n",
       "      <td>504.500000</td>\n",
       "      <td>8.000000</td>\n",
       "      <td>5.000000</td>\n",
       "      <td>2.990000</td>\n",
       "      <td>0.000000</td>\n",
       "    </tr>\n",
       "    <tr>\n",
       "      <th>75%</th>\n",
       "      <td>751.750000</td>\n",
       "      <td>13.000000</td>\n",
       "      <td>6.000000</td>\n",
       "      <td>4.990000</td>\n",
       "      <td>0.000000</td>\n",
       "    </tr>\n",
       "    <tr>\n",
       "      <th>max</th>\n",
       "      <td>1000.000000</td>\n",
       "      <td>16.000000</td>\n",
       "      <td>7.000000</td>\n",
       "      <td>4.990000</td>\n",
       "      <td>1.000000</td>\n",
       "    </tr>\n",
       "  </tbody>\n",
       "</table>\n",
       "</div>"
      ],
      "text/plain": [
       "           film_id  category_id  rental_duration  rental_rate  \\\n",
       "count   958.000000   958.000000       958.000000   958.000000   \n",
       "mean    502.598121     8.483299         4.969729     2.977474   \n",
       "std     287.541738     4.615321         1.407593     1.643152   \n",
       "min       1.000000     1.000000         3.000000     0.990000   \n",
       "25%     256.250000     5.000000         4.000000     0.990000   \n",
       "50%     504.500000     8.000000         5.000000     2.990000   \n",
       "75%     751.750000    13.000000         6.000000     4.990000   \n",
       "max    1000.000000    16.000000         7.000000     4.990000   \n",
       "\n",
       "       rented_next_month  \n",
       "count         958.000000  \n",
       "mean            0.086639  \n",
       "std             0.281452  \n",
       "min             0.000000  \n",
       "25%             0.000000  \n",
       "50%             0.000000  \n",
       "75%             0.000000  \n",
       "max             1.000000  "
      ]
     },
     "execution_count": 6,
     "metadata": {},
     "output_type": "execute_result"
    }
   ],
   "source": [
    "data.describe()"
   ]
  },
  {
   "cell_type": "code",
   "execution_count": 7,
   "id": "2f687592",
   "metadata": {},
   "outputs": [
    {
     "data": {
      "text/plain": [
       "film_id              0\n",
       "title                0\n",
       "category_id          0\n",
       "name                 0\n",
       "rating               0\n",
       "rental_date          0\n",
       "return_date          0\n",
       "rental_duration      0\n",
       "rental_rate          0\n",
       "rented_next_month    0\n",
       "dtype: int64"
      ]
     },
     "execution_count": 7,
     "metadata": {},
     "output_type": "execute_result"
    }
   ],
   "source": [
    "data.isna().sum()"
   ]
  },
  {
   "cell_type": "code",
   "execution_count": 8,
   "id": "c559b230",
   "metadata": {
    "scrolled": true
   },
   "outputs": [
    {
     "data": {
      "text/plain": [
       "0    875\n",
       "1     83\n",
       "Name: rented_next_month, dtype: int64"
      ]
     },
     "execution_count": 8,
     "metadata": {},
     "output_type": "execute_result"
    }
   ],
   "source": [
    "data['rented_next_month'].value_counts()"
   ]
  },
  {
   "cell_type": "code",
   "execution_count": 9,
   "id": "e31a3aec",
   "metadata": {},
   "outputs": [
    {
     "data": {
      "text/html": [
       "<div>\n",
       "<style scoped>\n",
       "    .dataframe tbody tr th:only-of-type {\n",
       "        vertical-align: middle;\n",
       "    }\n",
       "\n",
       "    .dataframe tbody tr th {\n",
       "        vertical-align: top;\n",
       "    }\n",
       "\n",
       "    .dataframe thead th {\n",
       "        text-align: right;\n",
       "    }\n",
       "</style>\n",
       "<table border=\"1\" class=\"dataframe\">\n",
       "  <thead>\n",
       "    <tr style=\"text-align: right;\">\n",
       "      <th></th>\n",
       "      <th>film_id</th>\n",
       "      <th>category_id</th>\n",
       "      <th>rental_duration</th>\n",
       "      <th>rental_rate</th>\n",
       "      <th>rented_next_month</th>\n",
       "    </tr>\n",
       "  </thead>\n",
       "  <tbody>\n",
       "    <tr>\n",
       "      <th>film_id</th>\n",
       "      <td>1.000000</td>\n",
       "      <td>0.000076</td>\n",
       "      <td>-0.037509</td>\n",
       "      <td>-0.031217</td>\n",
       "      <td>-0.069873</td>\n",
       "    </tr>\n",
       "    <tr>\n",
       "      <th>category_id</th>\n",
       "      <td>0.000076</td>\n",
       "      <td>1.000000</td>\n",
       "      <td>0.009814</td>\n",
       "      <td>0.083196</td>\n",
       "      <td>-0.053988</td>\n",
       "    </tr>\n",
       "    <tr>\n",
       "      <th>rental_duration</th>\n",
       "      <td>-0.037509</td>\n",
       "      <td>0.009814</td>\n",
       "      <td>1.000000</td>\n",
       "      <td>0.030557</td>\n",
       "      <td>-0.035574</td>\n",
       "    </tr>\n",
       "    <tr>\n",
       "      <th>rental_rate</th>\n",
       "      <td>-0.031217</td>\n",
       "      <td>0.083196</td>\n",
       "      <td>0.030557</td>\n",
       "      <td>1.000000</td>\n",
       "      <td>0.015906</td>\n",
       "    </tr>\n",
       "    <tr>\n",
       "      <th>rented_next_month</th>\n",
       "      <td>-0.069873</td>\n",
       "      <td>-0.053988</td>\n",
       "      <td>-0.035574</td>\n",
       "      <td>0.015906</td>\n",
       "      <td>1.000000</td>\n",
       "    </tr>\n",
       "  </tbody>\n",
       "</table>\n",
       "</div>"
      ],
      "text/plain": [
       "                    film_id  category_id  rental_duration  rental_rate  \\\n",
       "film_id            1.000000     0.000076        -0.037509    -0.031217   \n",
       "category_id        0.000076     1.000000         0.009814     0.083196   \n",
       "rental_duration   -0.037509     0.009814         1.000000     0.030557   \n",
       "rental_rate       -0.031217     0.083196         0.030557     1.000000   \n",
       "rented_next_month -0.069873    -0.053988        -0.035574     0.015906   \n",
       "\n",
       "                   rented_next_month  \n",
       "film_id                    -0.069873  \n",
       "category_id                -0.053988  \n",
       "rental_duration            -0.035574  \n",
       "rental_rate                 0.015906  \n",
       "rented_next_month           1.000000  "
      ]
     },
     "execution_count": 9,
     "metadata": {},
     "output_type": "execute_result"
    }
   ],
   "source": [
    "data.corr(method='pearson')"
   ]
  },
  {
   "cell_type": "code",
   "execution_count": 10,
   "id": "a760503a",
   "metadata": {},
   "outputs": [
    {
     "data": {
      "image/png": "[encoded data removed]",
      "text/plain": [
       "<Figure size 720x576 with 2 Axes>"
      ]
     },
     "metadata": {
      "needs_background": "light"
     },
     "output_type": "display_data"
    }
   ],
   "source": [
    "corr_matrix=data.corr(method='pearson') \n",
    "fig, ax = plt.subplots(figsize=(10, 8))\n",
    "ax = sns.heatmap(corr_matrix, annot=True)\n",
    "plt.show()"
   ]
  },
  {
   "cell_type": "code",
   "execution_count": 11,
   "id": "ed2e96c0",
   "metadata": {
    "scrolled": true
   },
   "outputs": [
    {
     "data": {
      "image/png": "[encoded data removed]",
      "text/plain": [
       "<Figure size 360x360 with 1 Axes>"
      ]
     },
     "metadata": {
      "needs_background": "light"
     },
     "output_type": "display_data"
    },
    {
     "data": {
      "image/png": "[encoded data removed]",
      "text/plain": [
       "<Figure size 360x360 with 1 Axes>"
      ]
     },
     "metadata": {
      "needs_background": "light"
     },
     "output_type": "display_data"
    },
    {
     "data": {
      "image/png": "[encoded data removed]",
      "text/plain": [
       "<Figure size 360x360 with 1 Axes>"
      ]
     },
     "metadata": {
      "needs_background": "light"
     },
     "output_type": "display_data"
    },
    {
     "data": {
      "image/png": "[encoded data removed]",
      "text/plain": [
       "<Figure size 360x360 with 1 Axes>"
      ]
     },
     "metadata": {
      "needs_background": "light"
     },
     "output_type": "display_data"
    },
    {
     "data": {
      "image/png": "[encoded data removed]",
      "text/plain": [
       "<Figure size 360x360 with 1 Axes>"
      ]
     },
     "metadata": {
      "needs_background": "light"
     },
     "output_type": "display_data"
    }
   ],
   "source": [
    "for col in data.select_dtypes(np.number):\n",
    "    sns.displot(data[col])\n",
    "    plt.show()"
   ]
  },
  {
   "cell_type": "code",
   "execution_count": 15,
   "id": "bd04171b",
   "metadata": {
    "scrolled": true
   },
   "outputs": [
    {
     "name": "stdout",
     "output_type": "stream",
     "text": [
      "              precision    recall  f1-score   support\n",
      "\n",
      "           0       1.00      1.00      1.00       175\n",
      "           1       1.00      1.00      1.00        17\n",
      "\n",
      "    accuracy                           1.00       192\n",
      "   macro avg       1.00      1.00      1.00       192\n",
      "weighted avg       1.00      1.00      1.00       192\n",
      "\n"
     ]
    }
   ],
   "source": [
    "X = pd.get_dummies(data.drop('rented_next_month', axis=1))\n",
    "y = data['rented_next_month']\n",
    "\n",
    "X_train, X_test, y_train, y_test = train_test_split(X, y, test_size=0.2, random_state=42, stratify=y)\n",
    "\n",
    "classification = LogisticRegression(random_state=42, max_iter=10000)\n",
    "classification.fit(X_train, y_train)\n",
    "\n",
    "predictions = classification.predict(X_test)\n",
    "print(classification_report(y_test, predictions))"
   ]
  },
  {
   "cell_type": "code",
   "execution_count": 32,
   "id": "e92d8f4b",
   "metadata": {},
   "outputs": [
    {
     "data": {
      "image/png": "[encoded data removed]",
      "text/plain": [
       "<Figure size 540x540 with 1 Axes>"
      ]
     },
     "metadata": {
      "needs_background": "light"
     },
     "output_type": "display_data"
    }
   ],
   "source": [
    "conf_matrix = confusion_matrix(y_true=y_test, y_pred=predictions)\n",
    "fig, ax = plt.subplots(figsize=(7.5, 7.5))\n",
    "ax.matshow(conf_matrix, cmap=plt.cm.Blues, alpha=0.3)\n",
    "for i in range(conf_matrix.shape[0]):\n",
    "    for j in range(conf_matrix.shape[1]):\n",
    "        ax.text(x=j, y=i,s=conf_matrix[i, j], va='center', ha='center', size='xx-large')\n",
    " \n",
    "plt.xlabel('Predictions', fontsize=18)\n",
    "plt.ylabel('Actuals', fontsize=18)\n",
    "plt.title('Confusion Matrix', fontsize=18)\n",
    "plt.show()"
   ]
  },
  {
   "cell_type": "code",
   "execution_count": 20,
   "id": "10efe500",
   "metadata": {},
   "outputs": [
    {
     "data": {
      "text/plain": [
       "<AxesSubplot:>"
      ]
     },
     "execution_count": 20,
     "metadata": {},
     "output_type": "execute_result"
    },
    {
     "data": {
      "image/png": "[encoded data removed]",
      "text/plain": [
       "<Figure size 432x288 with 2 Axes>"
      ]
     },
     "metadata": {
      "needs_background": "light"
     },
     "output_type": "display_data"
    }
   ],
   "source": [
    "cf_matrix = confusion_matrix(y_test, predictions)\n",
    "\n",
    "group_counts = [\"{0:0.0f}\".format(value) for value in cf_matrix.flatten()]\n",
    "group_percentages = [\"{0:.2%}\".format(value) for value in cf_matrix.flatten()/np.sum(cf_matrix)]\n",
    "labels = [f\"{v1}\\n{v2}\\n{v3}\" for v1, v2, v3 in zip(group_names,group_counts,group_percentages)]\n",
    "labels = np.asarray(labels).reshape(4)\n",
    "sns.heatmap(cf_matrix, fmt='', cmap='Blues')"
   ]
  },
  {
   "cell_type": "code",
   "execution_count": null,
   "id": "25b4fd7e",
   "metadata": {},
   "outputs": [],
   "source": []
  }
 ],
 "metadata": {
  "kernelspec": {
   "display_name": "Python 3 (ipykernel)",
   "language": "python",
   "name": "python3"
  },
  "language_info": {
   "codemirror_mode": {
    "name": "ipython",
    "version": 3
   },
   "file_extension": ".py",
   "mimetype": "text/x-python",
   "name": "python",
   "nbconvert_exporter": "python",
   "pygments_lexer": "ipython3",
   "version": "3.9.12"
  }
 },
 "nbformat": 4,
 "nbformat_minor": 5
}
